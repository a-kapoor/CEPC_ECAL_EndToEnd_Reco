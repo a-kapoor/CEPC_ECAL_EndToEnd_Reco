{
 "cells": [
  {
   "cell_type": "code",
   "execution_count": 1,
   "id": "93e1b5ce",
   "metadata": {},
   "outputs": [
    {
     "name": "stderr",
     "output_type": "stream",
     "text": [
      "2024-03-05 10:56:03.831097: I tensorflow/core/util/port.cc:110] oneDNN custom operations are on. You may see slightly different numerical results due to floating-point round-off errors from different computation orders. To turn them off, set the environment variable `TF_ENABLE_ONEDNN_OPTS=0`.\n",
      "2024-03-05 10:56:03.922075: I tensorflow/core/platform/cpu_feature_guard.cc:182] This TensorFlow binary is optimized to use available CPU instructions in performance-critical operations.\n",
      "To enable the following instructions: AVX2 AVX512F AVX512_VNNI FMA, in other operations, rebuild TensorFlow with the appropriate compiler flags.\n"
     ]
    }
   ],
   "source": [
    "import uproot\n",
    "import matplotlib.pyplot as plt\n",
    "import numpy as np\n",
    "import matplotlib\n",
    "import awkward as ak\n",
    "import pandas as pd\n",
    "import numpy as np\n",
    "from sklearn.mixture import GaussianMixture\n",
    "import matplotlib.pyplot as plt\n",
    "import numpy as np\n",
    "from keras.models import Sequential\n",
    "from keras.layers import Conv2D, MaxPooling2D, Flatten, Dense\n",
    "from sklearn.model_selection import train_test_split\n",
    "import matplotlib.pyplot as plt\n",
    "import sys\n",
    "from keras.callbacks import EarlyStopping\n",
    "from keras.models import load_model\n",
    "import os\n",
    "from tensorflow.keras import layers, models\n",
    "from sklearn.metrics import mean_squared_error, mean_absolute_error, r2_score\n",
    "import tensorflow as tf\n",
    "from sklearn.model_selection import train_test_split\n",
    "import math\n",
    "os.environ['TF_GPU_ALLOCATOR'] = 'cuda_malloc_async'"
   ]
  },
  {
   "cell_type": "code",
   "execution_count": 2,
   "id": "26b8a15f",
   "metadata": {},
   "outputs": [],
   "source": [
    "def getEnergyMatrix(file='Digi_SCECAL_gamma.root',target=0,entrystop=100):\n",
    "    file = uproot.open(file)\n",
    "    # Access the tree\n",
    "    tree = file[\"ClusBar\"]\n",
    "    # Get the data for one event\n",
    "    event_data = tree.arrays([\"clusBar_Q1\", \"clusBar_Q2\", \"clusBar_module\", \"clusBar_crystal\",\"clusBar_z\",\"clusBar_x\",\"clusBar_y\",\"Photon_E_MC\"])\n",
    "    \n",
    "    # Calculate E, Z, and phi\n",
    "    E = (event_data[\"clusBar_Q1\"] + event_data[\"clusBar_Q2\"]) / 2\n",
    "    x=event_data[\"clusBar_x\"]\n",
    "    y=event_data[\"clusBar_y\"]\n",
    "    Z=event_data[\"clusBar_z\"]\n",
    "    phi = np.arctan2(y, x)\n",
    "    True_E=event_data[\"Photon_E_MC\"]\n",
    "    \n",
    "    Z_center = np.sum(Z * E,axis=1) / np.sum(E,axis=1)\n",
    "    phi_center = np.sum(phi * E,axis=1) / np.sum(E,axis=1)\n",
    "    #E = E/np.sum(E,axis=1) ## normalize\n",
    "    total_E=np.sum(E,axis=1)\n",
    "    # Shift the Z and phi values so that the weighted center is at (0, 0)\n",
    "    Z = Z - Z_center\n",
    "    phi = phi - phi_center\n",
    "\n",
    "    \n",
    "    # Select only the points that are within 100 units of the maximum Z and phi values\n",
    "    mask = (np.abs(Z) <= 200) & (np.abs(phi) <= 0.2)\n",
    "    Z = Z[mask]\n",
    "    phi = phi[mask]\n",
    "    E = E[mask]\n",
    "\n",
    "    ## Normalize energy for color mapping\n",
    "    #E_norm = (E - np.min(E)) / (np.max(E) - np.min(E))\n",
    "    \n",
    "    # Create a scatter plot with the 'gray_r' colormap\n",
    "    #plt.scatter(Z[1,:], phi[1,:], c=E_norm[1,:], cmap='hot_r',norm=matplotlib.colors.LogNorm(),marker='s')\n",
    "    #plt.colorbar(label='Energy')\n",
    "    #plt.xlabel('Z')\n",
    "    #plt.ylabel('Phi')\n",
    "    #plt.title('Event Visualization')\n",
    "    #plt.show()\n",
    "    \n",
    "    Z_bins = np.linspace(-150, 150, 81)  # 80 bins from -200 to 200\n",
    "    Z_binned = ak.Array([np.digitize(z, Z_bins) for z in Z])\n",
    "    Z_binned_values = ak.Array([Z_bins[z_binned_event - 1] for z_binned_event in Z_binned])\n",
    "    \n",
    "    phi_bins = np.linspace(-0.2, 0.2, 81)\n",
    "    phi_binned = ak.Array([np.digitize(p, phi_bins) for p in phi])\n",
    "    phi_binned_values = ak.Array([phi_bins[p_binned_event - 1] for p_binned_event in phi_binned])\n",
    "    \n",
    "    # Create a scatter plot with the 'gray_r' colormap\n",
    "    plt.scatter(Z_binned_values[1,:], phi_binned_values[1,:], c=E[1,:], cmap='hot_r',norm=matplotlib.colors.LogNorm(),marker='s')\n",
    "    plt.colorbar(label='Energy')\n",
    "    plt.xlabel('Z')\n",
    "    plt.ylabel('Phi')\n",
    "    plt.title('Event Visualization')\n",
    "    plt.show()\n",
    "    \n",
    "    # Create a DataFrame to store the energy matrices\n",
    "    df = pd.DataFrame(index=range(len(E)), columns=[\"energy_matrix\"])\n",
    "    # For each event, create a 2D histogram of Z and phi, weighted by E\n",
    "    #energy_matrices = np.histogram2d(Z_binned_values, phi_binned_values, bins=(Z_bins, phi_bins), weights=E)[0]\n",
    "    #df[\"energy_matrix\"] = energy_matrices\n",
    "    #df[\"E1\"] = True_E[:, 0]\n",
    "    #df[\"E2\"] = True_E[:, 1]\n",
    "    for i in range(len(E)):\n",
    "        df.loc[i, \"energy_matrix\"] = np.histogram2d(Z_binned_values[i], phi_binned_values[i], bins=(Z_bins, phi_bins), weights=E[i])[0]\n",
    "    #df[\"E1\"] = True_E[:,0].to_numpy()\n",
    "    #df[\"E2\"] = True_E[:,1].to_numpy()\n",
    "    df.loc[0].to_numpy()[0].shape\n",
    "    df['target']=target\n",
    "    df[\"total_e\"]=total_E\n",
    "    return df,True_E,total_E"
   ]
  },
  {
   "cell_type": "code",
   "execution_count": 3,
   "id": "98b55abe",
   "metadata": {},
   "outputs": [
    {
     "name": "stderr",
     "output_type": "stream",
     "text": [
      "/cvmfs/sft.cern.ch/lcg/views/LCG_105_cuda/x86_64-centos7-gcc11-opt/lib/python3.9/site-packages/awkward/_connect/_numpy.py:195: RuntimeWarning: invalid value encountered in divide\n",
      "  result = getattr(ufunc, method)(\n"
     ]
    },
    {
     "data": {
      "image/png": "[encoded data removed]",
      "text/plain": [
       "<Figure size 432x288 with 2 Axes>"
      ]
     },
     "metadata": {
      "needs_background": "light"
     },
     "output_type": "display_data"
    }
   ],
   "source": [
    "df_gg,True_E,total_E=getEnergyMatrix(file='DigiEcal_diphoton_1-10GeV_megered.root')"
   ]
  },
  {
   "cell_type": "code",
   "execution_count": 4,
   "id": "049006a6",
   "metadata": {},
   "outputs": [
    {
     "data": {
      "text/plain": [
       "49912"
      ]
     },
     "execution_count": 4,
     "metadata": {},
     "output_type": "execute_result"
    }
   ],
   "source": [
    "len(df_gg)"
   ]
  },
  {
   "cell_type": "code",
   "execution_count": 5,
   "id": "4c9d9607",
   "metadata": {},
   "outputs": [],
   "source": [
    "df_gg=df_gg[df_gg.total_e>0]"
   ]
  },
  {
   "cell_type": "code",
   "execution_count": 6,
   "id": "95a52f5c",
   "metadata": {},
   "outputs": [
    {
     "data": {
      "text/plain": [
       "49910"
      ]
     },
     "execution_count": 6,
     "metadata": {},
     "output_type": "execute_result"
    }
   ],
   "source": [
    "len(df_gg)"
   ]
  },
  {
   "cell_type": "code",
   "execution_count": 10,
   "id": "a8d0d70e",
   "metadata": {},
   "outputs": [],
   "source": [
    "True_E=True_E[total_E>0]"
   ]
  },
  {
   "cell_type": "code",
   "execution_count": 11,
   "id": "ff90afa4",
   "metadata": {},
   "outputs": [
    {
     "name": "stderr",
     "output_type": "stream",
     "text": [
      "/tmp/ipykernel_1791/1838618144.py:1: SettingWithCopyWarning: \n",
      "A value is trying to be set on a copy of a slice from a DataFrame.\n",
      "Try using .loc[row_indexer,col_indexer] = value instead\n",
      "\n",
      "See the caveats in the documentation: https://pandas.pydata.org/pandas-docs/stable/user_guide/indexing.html#returning-a-view-versus-a-copy\n",
      "  df_gg[\"E1\"] = True_E[:,0].to_numpy()\n",
      "/tmp/ipykernel_1791/1838618144.py:2: SettingWithCopyWarning: \n",
      "A value is trying to be set on a copy of a slice from a DataFrame.\n",
      "Try using .loc[row_indexer,col_indexer] = value instead\n",
      "\n",
      "See the caveats in the documentation: https://pandas.pydata.org/pandas-docs/stable/user_guide/indexing.html#returning-a-view-versus-a-copy\n",
      "  df_gg[\"E2\"] = True_E[:,1].to_numpy()\n"
     ]
    }
   ],
   "source": [
    "df_gg[\"E1\"] = True_E[:,0].to_numpy()\n",
    "df_gg[\"E2\"] = True_E[:,1].to_numpy()"
   ]
  },
  {
   "cell_type": "code",
   "execution_count": null,
   "id": "d1df0119",
   "metadata": {},
   "outputs": [],
   "source": [
    "'''\n",
    "for i in range(len(True_E)):\n",
    "    if len(True_E[i])==2:\n",
    "        print(df_gg.loc[i, \"energy_matrix\"])\n",
    "        print(df_gg.loc[i, \"energy_matrix\"].sum())\n",
    "        print(len(True_E[i]))\n",
    "    if i>3:\n",
    "        break;\n",
    "'''"
   ]
  },
  {
   "cell_type": "code",
   "execution_count": null,
   "id": "236c8064",
   "metadata": {},
   "outputs": [],
   "source": [
    "#df_gg.loc[i, \"energy_matrix\"].sum()"
   ]
  },
  {
   "cell_type": "code",
   "execution_count": 12,
   "id": "89921154",
   "metadata": {},
   "outputs": [],
   "source": [
    "import numpy as np\n",
    "from keras.models import Sequential\n",
    "from keras.layers import Conv2D, MaxPooling2D, Flatten, Dense\n",
    "from sklearn.model_selection import train_test_split\n",
    "import matplotlib.pyplot as plt"
   ]
  },
  {
   "cell_type": "code",
   "execution_count": 20,
   "id": "d5383f21",
   "metadata": {},
   "outputs": [],
   "source": [
    "# Assuming df_A and df_B are your dataframes for class A and class B\n",
    "# Convert the energy matrices into numpy arrays\n",
    "data = np.stack(df_gg['energy_matrix'].values)\n",
    "E1=df_gg['E1'].values\n",
    "E2=df_gg['E2'].values"
   ]
  },
  {
   "cell_type": "code",
   "execution_count": null,
   "id": "393e2afa",
   "metadata": {},
   "outputs": [],
   "source": []
  },
  {
   "cell_type": "code",
   "execution_count": 21,
   "id": "95405f4b",
   "metadata": {},
   "outputs": [],
   "source": [
    "# Assuming your data is in the following format\n",
    "targets = np.stack((E1, E2), axis=-1)\n",
    "\n",
    "# Reshape data for CNN if necessary\n",
    "if len(data.shape) == 3:\n",
    "    data = np.expand_dims(data, axis=-1)"
   ]
  },
  {
   "cell_type": "code",
   "execution_count": 69,
   "id": "a25d51fa",
   "metadata": {},
   "outputs": [],
   "source": [
    "# Split the data into training and testing sets\n",
    "data_train, data_test, labels_train, labels_test = train_test_split(data, targets, test_size=0.2, random_state=42)"
   ]
  },
  {
   "cell_type": "code",
   "execution_count": 70,
   "id": "21ea8478",
   "metadata": {},
   "outputs": [
    {
     "name": "stdout",
     "output_type": "stream",
     "text": [
      "Epoch 1/30\n",
      "1248/1248 [==============================] - 13s 9ms/step - loss: 2.3755 - root_mean_squared_error: 1.5413 - val_loss: 1.7273 - val_root_mean_squared_error: 1.3143\n",
      "Epoch 2/30\n",
      "1248/1248 [==============================] - 10s 8ms/step - loss: 1.6136 - root_mean_squared_error: 1.2703 - val_loss: 1.5490 - val_root_mean_squared_error: 1.2446\n",
      "Epoch 3/30\n",
      "1248/1248 [==============================] - 10s 8ms/step - loss: 1.4981 - root_mean_squared_error: 1.2240 - val_loss: 1.4803 - val_root_mean_squared_error: 1.2167\n",
      "Epoch 4/30\n",
      "1248/1248 [==============================] - 10s 8ms/step - loss: 1.4309 - root_mean_squared_error: 1.1962 - val_loss: 1.4062 - val_root_mean_squared_error: 1.1858\n",
      "Epoch 5/30\n",
      "1248/1248 [==============================] - 10s 8ms/step - loss: 1.3701 - root_mean_squared_error: 1.1705 - val_loss: 1.3270 - val_root_mean_squared_error: 1.1520\n",
      "Epoch 6/30\n",
      "1248/1248 [==============================] - 10s 8ms/step - loss: 1.3016 - root_mean_squared_error: 1.1409 - val_loss: 1.2658 - val_root_mean_squared_error: 1.1251\n",
      "Epoch 7/30\n",
      "1248/1248 [==============================] - 10s 8ms/step - loss: 1.2581 - root_mean_squared_error: 1.1216 - val_loss: 1.2134 - val_root_mean_squared_error: 1.1016\n",
      "Epoch 8/30\n",
      "1248/1248 [==============================] - 10s 8ms/step - loss: 1.1850 - root_mean_squared_error: 1.0886 - val_loss: 1.2122 - val_root_mean_squared_error: 1.1010\n",
      "Epoch 9/30\n",
      "1248/1248 [==============================] - 10s 8ms/step - loss: 1.1393 - root_mean_squared_error: 1.0674 - val_loss: 1.1834 - val_root_mean_squared_error: 1.0879\n",
      "Epoch 10/30\n",
      "1248/1248 [==============================] - 10s 8ms/step - loss: 1.0959 - root_mean_squared_error: 1.0469 - val_loss: 1.1269 - val_root_mean_squared_error: 1.0615\n",
      "Epoch 11/30\n",
      "1248/1248 [==============================] - 10s 8ms/step - loss: 1.0594 - root_mean_squared_error: 1.0293 - val_loss: 1.1214 - val_root_mean_squared_error: 1.0589\n",
      "Epoch 12/30\n",
      "1248/1248 [==============================] - 10s 8ms/step - loss: 1.0458 - root_mean_squared_error: 1.0226 - val_loss: 1.1038 - val_root_mean_squared_error: 1.0506\n",
      "Epoch 13/30\n",
      "1248/1248 [==============================] - 10s 8ms/step - loss: 1.0132 - root_mean_squared_error: 1.0066 - val_loss: 1.1332 - val_root_mean_squared_error: 1.0645\n",
      "Epoch 14/30\n",
      "1248/1248 [==============================] - 10s 8ms/step - loss: 0.9913 - root_mean_squared_error: 0.9957 - val_loss: 1.0904 - val_root_mean_squared_error: 1.0442\n",
      "Epoch 15/30\n",
      "1248/1248 [==============================] - 10s 8ms/step - loss: 0.9720 - root_mean_squared_error: 0.9859 - val_loss: 1.0941 - val_root_mean_squared_error: 1.0460\n",
      "Epoch 16/30\n",
      "1248/1248 [==============================] - 10s 8ms/step - loss: 0.9542 - root_mean_squared_error: 0.9769 - val_loss: 1.1136 - val_root_mean_squared_error: 1.0553\n",
      "Epoch 17/30\n",
      "1248/1248 [==============================] - 10s 8ms/step - loss: 0.9431 - root_mean_squared_error: 0.9711 - val_loss: 1.0477 - val_root_mean_squared_error: 1.0236\n",
      "Epoch 18/30\n",
      "1248/1248 [==============================] - 10s 8ms/step - loss: 0.9185 - root_mean_squared_error: 0.9584 - val_loss: 1.1076 - val_root_mean_squared_error: 1.0524\n",
      "Epoch 19/30\n",
      "1248/1248 [==============================] - 10s 8ms/step - loss: 0.9127 - root_mean_squared_error: 0.9554 - val_loss: 1.0142 - val_root_mean_squared_error: 1.0071\n",
      "Epoch 20/30\n",
      "1248/1248 [==============================] - 10s 8ms/step - loss: 0.9007 - root_mean_squared_error: 0.9491 - val_loss: 1.0826 - val_root_mean_squared_error: 1.0405\n",
      "Epoch 21/30\n",
      "1248/1248 [==============================] - 10s 8ms/step - loss: 0.8838 - root_mean_squared_error: 0.9401 - val_loss: 1.0033 - val_root_mean_squared_error: 1.0016\n",
      "Epoch 22/30\n",
      "1248/1248 [==============================] - 10s 8ms/step - loss: 0.8788 - root_mean_squared_error: 0.9375 - val_loss: 1.0173 - val_root_mean_squared_error: 1.0086\n",
      "Epoch 23/30\n",
      "1248/1248 [==============================] - 10s 8ms/step - loss: 0.8650 - root_mean_squared_error: 0.9300 - val_loss: 1.0423 - val_root_mean_squared_error: 1.0209\n",
      "Epoch 24/30\n",
      "1248/1248 [==============================] - 10s 8ms/step - loss: 0.8539 - root_mean_squared_error: 0.9241 - val_loss: 1.0261 - val_root_mean_squared_error: 1.0130\n",
      "Epoch 25/30\n",
      "1248/1248 [==============================] - 10s 8ms/step - loss: 0.8458 - root_mean_squared_error: 0.9197 - val_loss: 1.0037 - val_root_mean_squared_error: 1.0018\n",
      "Epoch 26/30\n",
      "1248/1248 [==============================] - 10s 8ms/step - loss: 0.8385 - root_mean_squared_error: 0.9157 - val_loss: 1.0035 - val_root_mean_squared_error: 1.0018\n",
      "Epoch 27/30\n",
      "1248/1248 [==============================] - 10s 8ms/step - loss: 0.8203 - root_mean_squared_error: 0.9057 - val_loss: 0.9997 - val_root_mean_squared_error: 0.9999\n",
      "Epoch 28/30\n",
      "1248/1248 [==============================] - 10s 8ms/step - loss: 0.8133 - root_mean_squared_error: 0.9018 - val_loss: 0.9928 - val_root_mean_squared_error: 0.9964\n",
      "Epoch 29/30\n",
      "1248/1248 [==============================] - 10s 8ms/step - loss: 0.8039 - root_mean_squared_error: 0.8966 - val_loss: 0.9730 - val_root_mean_squared_error: 0.9864\n",
      "Epoch 30/30\n",
      "1248/1248 [==============================] - 10s 8ms/step - loss: 0.7965 - root_mean_squared_error: 0.8925 - val_loss: 1.0046 - val_root_mean_squared_error: 1.0023\n"
     ]
    }
   ],
   "source": [
    "# Define the CNN\n",
    "model = Sequential()\n",
    "model.add(Conv2D(32, (3, 3), activation='relu', input_shape=data.shape[1:]))\n",
    "model.add(MaxPooling2D((2, 2)))\n",
    "model.add(Conv2D(64, (3, 3), activation='relu'))\n",
    "model.add(MaxPooling2D((2, 2)))\n",
    "model.add(Flatten())\n",
    "model.add(Dense(64, activation='relu'))\n",
    "model.add(Dense(2))\n",
    "early_stop = EarlyStopping(monitor='val_loss', patience=10, restore_best_weights=True)\n",
    "# Compile the model\n",
    "model.compile(optimizer='adam', loss='mean_squared_error', metrics=[tf.keras.metrics.RootMeanSquaredError()])\n",
    "\n",
    "# Train the model\n",
    "history=model.fit(data_train, labels_train, epochs=30, validation_data=(data_test, labels_test),batch_size=32,callbacks=[early_stop])"
   ]
  },
  {
   "cell_type": "code",
   "execution_count": 71,
   "id": "6e4eb1ec",
   "metadata": {},
   "outputs": [
    {
     "name": "stdout",
     "output_type": "stream",
     "text": [
      "312/312 [==============================] - 1s 3ms/step\n"
     ]
    }
   ],
   "source": [
    "test_pred=model.predict(data_test)"
   ]
  },
  {
   "cell_type": "code",
   "execution_count": 72,
   "id": "98cd1a27",
   "metadata": {},
   "outputs": [
    {
     "data": {
      "text/plain": [
       "array([[5.994662 , 4.510951 ],\n",
       "       [4.4963493, 3.4333832],\n",
       "       [7.582444 , 9.090625 ],\n",
       "       ...,\n",
       "       [5.2604   , 8.998883 ],\n",
       "       [5.648748 , 2.4816325],\n",
       "       [2.139986 , 1.2510258]], dtype=float32)"
      ]
     },
     "execution_count": 72,
     "metadata": {},
     "output_type": "execute_result"
    }
   ],
   "source": [
    "labels_test"
   ]
  },
  {
   "cell_type": "code",
   "execution_count": 73,
   "id": "c1dfa520",
   "metadata": {},
   "outputs": [],
   "source": [
    "error=(test_pred-labels_test)/labels_test"
   ]
  },
  {
   "cell_type": "code",
   "execution_count": 74,
   "id": "df913f68",
   "metadata": {},
   "outputs": [],
   "source": [
    "#error=error.flatten()"
   ]
  },
  {
   "cell_type": "code",
   "execution_count": 75,
   "id": "993082c8",
   "metadata": {},
   "outputs": [],
   "source": [
    "# Compute the histogram\n",
    "hist, bin_edges = np.histogram(error, bins='auto')"
   ]
  },
  {
   "cell_type": "code",
   "execution_count": 79,
   "id": "5104b673",
   "metadata": {},
   "outputs": [
    {
     "data": {
      "image/png": "[encoded data removed]",
      "text/plain": [
       "<Figure size 576x432 with 1 Axes>"
      ]
     },
     "metadata": {
      "needs_background": "light"
     },
     "output_type": "display_data"
    }
   ],
   "source": [
    "# Create the histogram plot\n",
    "plt.figure(figsize=(8, 6))\n",
    "plt.hist(error[:,0], bins='auto', color='blue', histtype='step',lw=2,label='first photon')\n",
    "plt.hist(error[:,1], bins='auto', color='red', histtype='step',lw=2,label='second photon')\n",
    "plt.xlabel(\"(prediction-truth)/truth\")\n",
    "plt.ylabel(\"Frequency\")\n",
    "plt.title(\"Energy resolution\")\n",
    "plt.grid(True)\n",
    "plt.xlim(-2,2)\n",
    "plt.legend()\n",
    "plt.show()\n"
   ]
  },
  {
   "cell_type": "code",
   "execution_count": 80,
   "id": "3b389ef9",
   "metadata": {},
   "outputs": [
    {
     "data": {
      "image/png": "[encoded data removed]",
      "text/plain": [
       "<Figure size 432x288 with 1 Axes>"
      ]
     },
     "metadata": {
      "needs_background": "light"
     },
     "output_type": "display_data"
    }
   ],
   "source": [
    "# Create the scatter plot\n",
    "plt.scatter(labels_test[:,0], error[:,0], c=\"blue\", label='first photon')\n",
    "\n",
    "# Customize the plot (add labels, title, etc.)\n",
    "plt.xlabel(\"true energy\")\n",
    "plt.ylabel(\"resolution\")\n",
    "plt.title(\"energy vs resolution\")\n",
    "plt.grid(True)\n",
    "plt.legend()\n",
    "# Show the plot\n",
    "plt.show()\n",
    "\n"
   ]
  },
  {
   "cell_type": "code",
   "execution_count": 81,
   "id": "a63eb4a3",
   "metadata": {},
   "outputs": [
    {
     "data": {
      "image/png": "[encoded data removed]",
      "text/plain": [
       "<Figure size 432x288 with 1 Axes>"
      ]
     },
     "metadata": {
      "needs_background": "light"
     },
     "output_type": "display_data"
    }
   ],
   "source": [
    "# Create the scatter plot\n",
    "plt.scatter(labels_test[:,0], error[:,0], c=\"blue\", label='second photon')\n",
    "\n",
    "# Customize the plot (add labels, title, etc.)\n",
    "plt.xlabel(\"true energy\")\n",
    "plt.ylabel(\"resolution\")\n",
    "plt.title(\"energy vs resolution\")\n",
    "plt.grid(True)\n",
    "plt.legend()\n",
    "# Show the plot\n",
    "plt.show()\n",
    "\n"
   ]
  },
  {
   "cell_type": "code",
   "execution_count": null,
   "id": "a82d2dd0",
   "metadata": {},
   "outputs": [],
   "source": []
  }
 ],
 "metadata": {
  "@webio": {
   "lastCommId": null,
   "lastKernelId": null
  },
  "kernelspec": {
   "display_name": "Python 3",
   "language": "python",
   "name": "python3"
  },
  "language_info": {
   "codemirror_mode": {
    "name": "ipython",
    "version": 3
   },
   "file_extension": ".py",
   "mimetype": "text/x-python",
   "name": "python",
   "nbconvert_exporter": "python",
   "pygments_lexer": "ipython3",
   "version": "3.9.12"
  }
 },
 "nbformat": 4,
 "nbformat_minor": 5
}
